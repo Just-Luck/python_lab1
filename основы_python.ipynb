{
  "cells": [
    {
      "cell_type": "markdown",
      "metadata": {
        "id": "M-DGa20PaHnu"
      },
      "source": [
        "#Задача 1\n",
        "Написать функцию на вход которой подается строка, состоящая из латинских букв.\n",
        "Функция должна вернуть количество гласных букв (a, e, i, o, u) в этой строке. Написать тесты для кода"
      ]
    },
    {
      "cell_type": "code",
      "execution_count": 26,
      "metadata": {
        "id": "XvX8X_JJ6PCb"
      },
      "outputs": [
        {
          "name": "stderr",
          "output_type": "stream",
          "text": [
            "...............\n",
            "----------------------------------------------------------------------\n",
            "Ran 15 tests in 0.010s\n",
            "\n",
            "OK\n"
          ]
        }
      ],
      "source": [
        "import unittest\n",
        "\n",
        "def count_vowels(str):\n",
        "    vowels = \"aeiouAEIOU\"\n",
        "    sum = 0\n",
        "    for i in str:\n",
        "        if i in vowels:\n",
        "            sum +=1\n",
        "    return sum\n",
        "\n",
        "class Test_count_vowels(unittest.TestCase):\n",
        "    def test1(self):\n",
        "        self.assertEqual(count_vowels(\"hello\"), 2)\n",
        "    def test2(self):\n",
        "        self.assertEqual(count_vowels(\"HELLO\"), 2)\n",
        "    def test3(self):\n",
        "        self.assertEqual(count_vowels(\"xyz\"), 0)\n",
        "    def test4(self):\n",
        "        self.assertEqual(count_vowels(\"aeiou\"), 5)\n",
        "    def test5(self):\n",
        "        self.assertEqual(count_vowels(\"\"), 0)\n",
        "\n",
        "if __name__ == '__main__':\n",
        "    unittest.main(argv=['first-arg-is-ignored'], exit=False)"
      ]
    },
    {
      "cell_type": "markdown",
      "metadata": {
        "id": "t2ClV_Y0bbr6"
      },
      "source": [
        "# Задача 2\n",
        "Написать функцию на вход, которой подается строка. Функция должна вернуть true, если\n",
        "каждый символ в строке встречается только 1 раз, иначе должна вернуть false. Написать тесты для кода"
      ]
    },
    {
      "cell_type": "code",
      "execution_count": 27,
      "metadata": {
        "id": "FppbECao6VIz"
      },
      "outputs": [
        {
          "name": "stderr",
          "output_type": "stream",
          "text": [
            "...............\n",
            "----------------------------------------------------------------------\n",
            "Ran 15 tests in 0.006s\n",
            "\n",
            "OK\n"
          ]
        }
      ],
      "source": [
        "import unittest\n",
        "\n",
        "def unic_str(str):\n",
        "    letters = set(str)\n",
        "    for i in letters:\n",
        "        if str.count(i) > 1:\n",
        "            return False\n",
        "    return True\n",
        "\n",
        "class Tests_unic_str(unittest.TestCase):\n",
        "    def test1(self):\n",
        "        self.assertEqual(unic_str(\"\"), True)\n",
        "    def test2(self):\n",
        "        self.assertEqual(unic_str(\"test\"), False)\n",
        "    def test3(self):\n",
        "        self.assertEqual(unic_str(\"xyz\"), True)\n",
        "    def test4(self):\n",
        "        self.assertEqual(unic_str(\"tesT\"), True)\n",
        "    def test5(self):\n",
        "        self.assertEqual(unic_str(\"1234567890\"), True)\n",
        "\n",
        "if __name__ == '__main__':\n",
        "    unittest.main(argv=['first-arg-is-ignored'], exit=False)"
      ]
    },
    {
      "cell_type": "markdown",
      "metadata": {
        "id": "udRiIK1cdt6E"
      },
      "source": [
        "# Задача 3\n",
        "Написать функцию, которая принимает положительное число и возвращает количество\n",
        "бит равных 1 в этом числе. Написать тесты для кода"
      ]
    },
    {
      "cell_type": "code",
      "execution_count": 31,
      "metadata": {
        "id": "6tkfDJRz6dp_"
      },
      "outputs": [
        {
          "name": "stderr",
          "output_type": "stream",
          "text": [
            "...............\n",
            "----------------------------------------------------------------------\n",
            "Ran 15 tests in 0.006s\n",
            "\n",
            "OK\n"
          ]
        }
      ],
      "source": [
        "import unittest\n",
        "\n",
        "def count_bits_equal_1(n):\n",
        "    if not isinstance(n, int) or n < 0: return False\n",
        "    return bin(n).count('1')\n",
        "\n",
        "class Tests_unic_str(unittest.TestCase):\n",
        "    def test1(self):\n",
        "        self.assertEqual(count_bits_equal_1(0), 0)\n",
        "    def test2(self):\n",
        "        self.assertEqual(count_bits_equal_1(1), 1)\n",
        "    def test3(self):\n",
        "        self.assertEqual(count_bits_equal_1(2), 1)\n",
        "    def test4(self):\n",
        "        self.assertEqual(count_bits_equal_1('test'), False)\n",
        "    def test5(self):\n",
        "        self.assertEqual(count_bits_equal_1(1023), 10)\n",
        "\n",
        "if __name__ == '__main__':\n",
        "    unittest.main(argv=['first-arg-is-ignored'], exit=False)"
      ]
    },
    {
      "cell_type": "markdown",
      "metadata": {
        "id": "26dDUz-Ae17N"
      },
      "source": [
        "# Задача 4\n",
        "Написать функцию, которая принимает положительное число. Функция должна вернуть то,\n",
        "сколько раз необходимо перемножать цифры числа или результат перемножения, чтобы\n",
        "получилось число состоящее из одной цифры.\n",
        "Например, для входного числа:\n",
        "· 39 функция должна вернуть 3, так как 3*9=27 => 2*7=14 => 1*4=4\n",
        "· 4 функция должна вернуть 0, так как число уже состоит из одной цифры\n",
        "· 999 функция должна вернуть 4, так как 9*9*9=729 => 7*2*9=126 => 1*2*6=12 =>\n",
        "1*2=2. Написать тесты для кода"
      ]
    },
    {
      "cell_type": "code",
      "execution_count": 50,
      "metadata": {
        "id": "BH1A_Mgi6i4G"
      },
      "outputs": [
        {
          "name": "stderr",
          "output_type": "stream",
          "text": [
            "...................\n",
            "----------------------------------------------------------------------\n",
            "Ran 19 tests in 0.007s\n",
            "\n",
            "OK\n"
          ]
        }
      ],
      "source": [
        "import unittest\n",
        "\n",
        "def magic(n):\n",
        "    numbers = list(str(n))\n",
        "    if len(numbers) == 1: return 0\n",
        "    counter = 0\n",
        "    while len(numbers) != 1:\n",
        "        counter+=1\n",
        "        newnumber = 1\n",
        "        for i in numbers:\n",
        "            newnumber *= int(i)\n",
        "        numbers = set(str(newnumber))\n",
        "    return counter\n",
        "\n",
        "class Tests_magic(unittest.TestCase):\n",
        "    def test1(self):\n",
        "        self.assertEqual(magic(39), 3)\n",
        "    def test2(self):\n",
        "        self.assertEqual(magic(4), 0)\n",
        "    def test3(self):\n",
        "        self.assertEqual(magic(999), 4)\n",
        "    def test4(self):\n",
        "        self.assertEqual(magic(0), 0)\n",
        "\n",
        "if __name__ == '__main__':\n",
        "    unittest.main(argv=['first-arg-is-ignored'], exit=False)"
      ]
    },
    {
      "cell_type": "markdown",
      "metadata": {
        "id": "0nS-kIa8g8vd"
      },
      "source": [
        "# Задача 5\n",
        "Написать функцию, которая принимает два целочисленных вектора одинаковой длины и\n",
        "возвращает среднеквадратическое отклонение двух векторов. Написать тесты для кода"
      ]
    },
    {
      "cell_type": "code",
      "execution_count": 59,
      "metadata": {
        "id": "8iphx4LM6xbx"
      },
      "outputs": [
        {
          "name": "stderr",
          "output_type": "stream",
          "text": [
            "......................\n",
            "----------------------------------------------------------------------\n",
            "Ran 22 tests in 0.016s\n",
            "\n",
            "OK\n"
          ]
        }
      ],
      "source": [
        "import unittest\n",
        "import numpy as np\n",
        "\n",
        "def mse(pred, true):\n",
        "    pred = np.array(pred)\n",
        "    true = np.array(true)\n",
        "    if pred.shape != true.shape: return False\n",
        "    return np.sqrt(np.mean((pred - true) ** 2))\n",
        "\n",
        "class Tests_mse(unittest.TestCase):\n",
        "    def test1(self):\n",
        "        pred = [1,2,3]\n",
        "        true = [1,2,3]\n",
        "        self.assertEqual(mse(pred,true), 0)\n",
        "    def test2(self):\n",
        "        pred = [1,2,3]\n",
        "        true = [4,5,6]\n",
        "        self.assertEqual(mse(pred,true), 3)\n",
        "    def test3(self):\n",
        "        pred = [1,2,3]\n",
        "        true = [1,2]\n",
        "        self.assertEqual(mse(pred,true), False)\n",
        "\n",
        "if __name__ == '__main__':\n",
        "    unittest.main(argv=['first-arg-is-ignored'], exit=False)"
      ]
    },
    {
      "cell_type": "markdown",
      "metadata": {
        "id": "vpIPKL439zkw"
      },
      "source": [
        "# Задача 6\n",
        "Написать функцию, принимающая целое положительное число. Функция должна вернуть\n",
        "строку вида “(n1**p1)(n2**p2)…(nk**pk)” представляющая разложение числа на простые\n",
        "множители (если pi == 1, то выводить только ni).\n",
        "Например, для числа 86240 функция должна вернуть “(2**5)(5)(7**2)(11)”. Написать тесты для кода"
      ]
    },
    {
      "cell_type": "code",
      "execution_count": 60,
      "metadata": {
        "id": "pFebmcZk94Jw"
      },
      "outputs": [
        {
          "name": "stderr",
          "output_type": "stream",
          "text": [
            "...........................\n",
            "----------------------------------------------------------------------\n",
            "Ran 27 tests in 0.015s\n",
            "\n",
            "OK\n"
          ]
        }
      ],
      "source": [
        "import unittest\n",
        "\n",
        "def decomposing_number(n):\n",
        "    if n <= 0: return False\n",
        "    factors = {}\n",
        "    divisor = 2\n",
        "    while n > 1:\n",
        "        while n % divisor == 0:\n",
        "            if divisor in factors: factors[divisor] += 1\n",
        "            else: factors[divisor] = 1\n",
        "            n //= divisor\n",
        "        divisor += 1\n",
        "    \n",
        "    res = ''\n",
        "    for prime, count in factors.items():\n",
        "        if count == 1: res += f'({prime})'\n",
        "        else: res += f'({prime}**{count})'\n",
        "    \n",
        "    return res\n",
        "\n",
        "class Tests_decomposing_number(unittest.TestCase):\n",
        "    def test1(self):\n",
        "        self.assertEqual(decomposing_number(-100), False)\n",
        "    def test2(self):\n",
        "        self.assertEqual(decomposing_number(86240), \"(2**5)(5)(7**2)(11)\")\n",
        "    def test3(self):\n",
        "        self.assertEqual(decomposing_number(1), \"\")\n",
        "    def test4(self):\n",
        "        self.assertEqual(decomposing_number(7), \"(7)\")\n",
        "    def test5(self):\n",
        "        self.assertEqual(decomposing_number(12), \"(2**2)(3)\")\n",
        "\n",
        "if __name__ == '__main__':\n",
        "    unittest.main(argv=['first-arg-is-ignored'], exit=False)"
      ]
    },
    {
      "cell_type": "markdown",
      "metadata": {
        "id": "ps2s0BudX7A2"
      },
      "source": [
        "# Задача 7\n",
        "Написать функцию, принимающая целое число n, задающее количество кубиков. Функция\n",
        "должна определить, можно ли из данного кол-ва кубиков построить пирамиду, то есть\n",
        "можно ли представить число n как 1^2+2^2+3^2+…+k^2. Если можно, то функция должна\n",
        "вернуть k, иначе строку “It is impossible”. Написать тесты для кода"
      ]
    },
    {
      "cell_type": "code",
      "execution_count": 64,
      "metadata": {
        "id": "3YPjEXxhX_YT"
      },
      "outputs": [
        {
          "name": "stderr",
          "output_type": "stream",
          "text": [
            "................................\n",
            "----------------------------------------------------------------------\n",
            "Ran 32 tests in 0.012s\n",
            "\n",
            "OK\n"
          ]
        }
      ],
      "source": [
        "import unittest\n",
        "\n",
        "def pyramid(number):\n",
        "    if number <= 0: return \"It is impossible\"\n",
        "    k = 0\n",
        "    counter = 0\n",
        "    while counter < number:\n",
        "        k += 1\n",
        "        counter += k ** 2\n",
        "    return k if counter == number else \"It is impossible\"\n",
        "\n",
        "class Tests_pyramid(unittest.TestCase):\n",
        "    def test1(self):\n",
        "        self.assertEqual(pyramid(-100), \"It is impossible\")\n",
        "    def test2(self):\n",
        "        self.assertEqual(pyramid(1), 1)\n",
        "    def test3(self):\n",
        "        self.assertEqual(pyramid(15), \"It is impossible\")\n",
        "    def test4(self):\n",
        "        self.assertEqual(pyramid(14), 3)\n",
        "    def test5(self):\n",
        "        self.assertEqual(pyramid(5), 2)\n",
        "\n",
        "if __name__ == '__main__':\n",
        "    unittest.main(argv=['first-arg-is-ignored'], exit=False)"
      ]
    },
    {
      "cell_type": "markdown",
      "metadata": {
        "id": "KeKgmIdAQMEJ"
      },
      "source": [
        "# Задача 8\n",
        "Функция принимает на вход положительное число и определяет является ли оно сбалансированным, т.е. сумма цифр до средних равна сумме цифр после. Средними в случае нечетного числа цифр считать одну цифру, в случае четного - две средних. Написать тесты для кода"
      ]
    },
    {
      "cell_type": "code",
      "execution_count": 69,
      "metadata": {
        "id": "gMAAqtqlQrZt"
      },
      "outputs": [
        {
          "name": "stderr",
          "output_type": "stream",
          "text": [
            ".....................................\n",
            "----------------------------------------------------------------------\n",
            "Ran 37 tests in 0.016s\n",
            "\n",
            "OK\n"
          ]
        }
      ],
      "source": [
        "import unittest\n",
        "\n",
        "def is_balanced(n):\n",
        "    str_n = str(n)\n",
        "    length = len(str_n)\n",
        "\n",
        "    if length == 1:\n",
        "        return True\n",
        "    \n",
        "    if length % 2 == 0:\n",
        "        mid1 = length // 2 - 1\n",
        "        mid2 = length // 2\n",
        "        left_sum = sum(int(str_n[i]) for i in range(mid1 + 1)) \n",
        "        right_sum = sum(int(str_n[i]) for i in range(mid2 + 1, length)) \n",
        "    else:\n",
        "        mid = length // 2\n",
        "        left_sum = sum(int(str_n[i]) for i in range(mid)) \n",
        "        right_sum = sum(int(str_n[i]) for i in range(mid + 1, length))\n",
        "\n",
        "    return left_sum == right_sum\n",
        "\n",
        "class Tests_is_balanced(unittest.TestCase):\n",
        "    def test1(self):\n",
        "        self.assertEqual(is_balanced(7), True)\n",
        "    def test2(self):\n",
        "        self.assertEqual(is_balanced(678), False)\n",
        "    def test3(self):\n",
        "        self.assertEqual(is_balanced(34543), True)\n",
        "    def test4(self):\n",
        "        self.assertEqual(is_balanced(3456789), False)\n",
        "    def test5(self):\n",
        "        self.assertEqual(is_balanced(123), False)\n",
        "\n",
        "if __name__ == '__main__':\n",
        "    unittest.main(argv=['first-arg-is-ignored'], exit=False)"
      ]
    }
  ],
  "metadata": {
    "colab": {
      "provenance": []
    },
    "kernelspec": {
      "display_name": "Python 3",
      "name": "python3"
    },
    "language_info": {
      "codemirror_mode": {
        "name": "ipython",
        "version": 3
      },
      "file_extension": ".py",
      "mimetype": "text/x-python",
      "name": "python",
      "nbconvert_exporter": "python",
      "pygments_lexer": "ipython3",
      "version": "3.12.7"
    }
  },
  "nbformat": 4,
  "nbformat_minor": 0
}
